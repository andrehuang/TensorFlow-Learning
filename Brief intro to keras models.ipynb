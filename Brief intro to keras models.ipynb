{
 "cells": [
  {
   "cell_type": "markdown",
   "metadata": {},
   "source": [
    "In the functional API, given some input tensor(s) and output tensor(s), you can instantiate a Model via:\n",
    "```python\n",
    "from keras.models import Model\n",
    "from keras.layers import Input, Dense\n",
    "\n",
    "a = Input(shape=(32,))\n",
    "b = Dense(32)(a)\n",
    "model = Model(inputs=a, outputs=b)\n",
    "```\n",
    "This model will include **all layers required in the computation of b given a**."
   ]
  },
  {
   "cell_type": "code",
   "execution_count": 1,
   "metadata": {
    "scrolled": true
   },
   "outputs": [
    {
     "name": "stderr",
     "output_type": "stream",
     "text": [
      "Using TensorFlow backend.\n"
     ]
    }
   ],
   "source": [
    "from keras.models import Model"
   ]
  },
  {
   "cell_type": "markdown",
   "metadata": {},
   "source": [
    "In the case of multi-input or multi-output models, you can use lists as well:\n",
    "```python\n",
    "model = Model(inputs=[a1, a2], outputs=[b1, b3, b3])\n",
    "```"
   ]
  },
  {
   "cell_type": "markdown",
   "metadata": {},
   "source": [
    "### Useful attributes of Model\n",
    "- __`model.layers`__ is a flattened list of the layers comprising the model graph.\n",
    "- `model.inputs` is the list of input tensors.\n",
    "- `model.outputs` is the list of output tensors."
   ]
  },
  {
   "cell_type": "markdown",
   "metadata": {},
   "source": [
    "### methods\n",
    "https://keras.io/models/model/"
   ]
  },
  {
   "cell_type": "markdown",
   "metadata": {},
   "source": [
    "__OUR CODE__\n",
    "```python\n",
    "model.compile(loss=losses, optimizer=multisgd, metrics=[\"accuracy\"])\n",
    "```"
   ]
  },
  {
   "cell_type": "markdown",
   "metadata": {},
   "source": [
    "where, `multisgd = MultiSGD(lr=base_lr, momentum=momentum, decay=0.0, nesterov=False, lr_mult=lr_mult)`"
   ]
  },
  {
   "cell_type": "markdown",
   "metadata": {},
   "source": [
    "### compile\n",
    "```python\n",
    "compile(self, optimizer, loss, metrics=None, loss_weights=None, sample_weight_mode=None, weighted_metrics=None, target_tensors=None)\n",
    "```\n",
    "Configures the model for training.\n",
    "\n",
    "### Arguments\n",
    "\n",
    "- optimizer: String (name of optimizer) or optimizer instance. See optimizers.\n",
    "- loss: String (name of objective function) or objective function. See losses. If the model has multiple outputs, you can use a different loss on each output by passing a dictionary or a list of losses. The loss value that will be minimized by the model will then be the sum of all individual losses.\n",
    "- metrics: List of metrics to be evaluated by the model during training and testing. Typically you will use  metrics=['accuracy']. To specify different metrics for different outputs of a multi-output model, you could also pass a dictionary, such as metrics={'output_a': 'accuracy'}.\n",
    "- loss_weights: Optional list or dictionary specifying scalar coefficients (Python floats) to weight the loss contributions of different model outputs. The loss value that will be minimized by the model will then be the weighted sum of all individual losses, weighted by the loss_weights coefficients. If a list, it is expected to have a 1:1 mapping to the model's outputs. If a tensor, it is expected to map output names (strings) to scalar coefficients.\n",
    "- sample_weight_mode: If you need to do timestep-wise sample weighting (2D weights), set this to \"temporal\". None defaults to sample-wise weights (1D). If the model has multiple outputs, you can use a different sample_weight_mode on each output by passing a dictionary or a list of modes.\n",
    "- weighted_metrics: List of metrics to be evaluated and weighted by sample_weight or class_weight during training and testing.\n",
    "- target_tensors: By default, Keras will create placeholders for the model's target, which will be fed with the target data during training. If instead you would like to use your own target tensors (in turn, Keras will not expect external Numpy data for these targets at training time), you can specify them via the target_tensors argument. It can be a single tensor (for a single-output model), a list of tensors, or a dict mapping output names to target tensors.\n",
    "- kwargs: When using the Theano/CNTK backends, these arguments are passed into K.function. When using the TensorFlow backend, these arguments are passed into tf.Session.run.\n",
    "### Raises\n",
    "\n",
    "- ValueError: In case of invalid arguments for optimizer, loss, metrics or sample_weight_mode."
   ]
  },
  {
   "cell_type": "markdown",
   "metadata": {},
   "source": [
    "### load_weights\n",
    "Assuming you have code for instantiating your model, you can then load the weights you saved into a model with the same architecture:\n",
    "```python\n",
    "model.load_weights('my_model_weights.h5')\n",
    "```"
   ]
  },
  {
   "cell_type": "markdown",
   "metadata": {},
   "source": [
    "__OUR CODE__\n",
    "```python\n",
    "model.fit_generator(train_di,\n",
    "                    steps_per_epoch=train_samples // batch_size,\n",
    "                    epochs=max_iter,\n",
    "                    callbacks=callbacks_list,\n",
    "                    #validation_data=val_di,\n",
    "                    #validation_steps=val_samples // batch_size,\n",
    "                    use_multiprocessing=False,\n",
    "                    initial_epoch=last_epoch\n",
    "                    )\n",
    "              ```"
   ]
  },
  {
   "cell_type": "markdown",
   "metadata": {},
   "source": [
    "### fit_generator\n",
    "```python\n",
    "fit_generator(self, generator, steps_per_epoch, epochs=1, verbose=1, callbacks=None, validation_data=None, validation_steps=None, class_weight=None, max_queue_size=10, workers=1, use_multiprocessing=False, shuffle=True, initial_epoch=0)\n",
    "```\n",
    "Fits the model on data yielded batch-by-batch by a Python generator.\n",
    "\n",
    "The generator is run in parallel to the model, for efficiency. For instance, this allows you to do real-time data augmentation on images on CPU in parallel to training your model on GPU.\n",
    "\n",
    "The use of keras.utils.Sequence guarantees the ordering and guarantees the single use of every input per epoch when using use_multiprocessing=True.\n",
    "\n",
    "### Arguments\n",
    "\n",
    "- generator: A generator or an instance of Sequence (keras.utils.Sequence) object in order to avoid duplicate data when using multiprocessing. The output of the generator must be either\n",
    "    1. a tuple (inputs, targets)\n",
    "    2. a tuple (inputs, targets, sample_weights). All arrays should contain the same number of samples. The generator is expected to loop over its data indefinitely. An epoch finishes when steps_per_epoch batches have been seen by the model.\n",
    "- steps_per_epoch: Total number of steps (batches of samples) to yield from generator before declaring one epoch finished and starting the next epoch. It should typically be equal to the number of unique samples of your dataset divided by the batch size. Not used if using Sequence.\n",
    "- epochs: Integer, total number of iterations on the data.\n",
    "- verbose: Verbosity mode, 0, 1, or 2.\n",
    "- callbacks: List of callbacks to be called during training.\n",
    "- validation_data: This can be either\n",
    "    - a generator for the validation data\n",
    "    - a tuple (inputs, targets)\n",
    "    - a tuple (inputs, targets, sample_weights).\n",
    "- validation_steps: Only relevant if validation_data is a generator. Total number of steps (batches of samples) to yield from  generator before stopping.\n",
    "- class_weight: Dictionary mapping class indices to a weight for the class.\n",
    "- max_queue_size: Maximum size for the generator queue\n",
    "- workers: Maximum number of processes to spin up when using process based threading\n",
    "- use_multiprocessing: If True, use process based threading. Note that because this implementation relies on multiprocessing, you should not pass non picklable arguments to the generator as they can't be passed easily to children processes.\n",
    "- shuffle: Whether to shuffle the order of the batches at the beginning of each epoch. Only used with instances of Sequence (keras.utils.Sequence).\n",
    "- initial_epoch: Epoch at which to start training (useful for resuming a previous training run)\n",
    "\n",
    "### Returns\n",
    "\n",
    "A `History` object."
   ]
  }
 ],
 "metadata": {
  "kernelspec": {
   "display_name": "Python 3",
   "language": "python",
   "name": "python3"
  },
  "language_info": {
   "codemirror_mode": {
    "name": "ipython",
    "version": 3
   },
   "file_extension": ".py",
   "mimetype": "text/x-python",
   "name": "python",
   "nbconvert_exporter": "python",
   "pygments_lexer": "ipython3",
   "version": "3.6.1"
  }
 },
 "nbformat": 4,
 "nbformat_minor": 2
}
